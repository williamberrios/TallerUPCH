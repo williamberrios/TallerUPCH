{
  "nbformat": 4,
  "nbformat_minor": 0,
  "metadata": {
    "colab": {
      "name": "Taller Preprocesamiento de Datos.ipynb",
      "provenance": [],
      "collapsed_sections": [
        "XGGXuB9LLyxi"
      ],
      "authorship_tag": "ABX9TyOBFMUMr9nAzdLgAD1PsTw9",
      "include_colab_link": true
    },
    "kernelspec": {
      "name": "python3",
      "display_name": "Python 3"
    },
    "language_info": {
      "name": "python"
    }
  },
  "cells": [
    {
      "cell_type": "markdown",
      "metadata": {
        "id": "view-in-github",
        "colab_type": "text"
      },
      "source": [
        "<a href=\"https://colab.research.google.com/github/williamberrios/TallerUPCH/blob/master/Preprocesamiento%20de%20Datos/Taller_Preprocesamiento_de_Datos.ipynb\" target=\"_parent\"><img src=\"https://colab.research.google.com/assets/colab-badge.svg\" alt=\"Open In Colab\"/></a>"
      ]
    },
    {
      "cell_type": "markdown",
      "source": [
        "# **Explorando los datos de pacientes UCI con posible diagnóstico de Diabetes**\n",
        "<p style='text-align: justify;'>Obtener una comprensión rápida del contexto de la salud general de un paciente ha sido particularmente importante durante la pandemia de COVID-19.Las Unidades de Cuidados Intensivos (UCI) a menudo carecen de historiales médicos verificados para los pacientes que ingresan. \n",
        "\n",
        "Es posible que un paciente angustiado, confundido o que no responda no pueda brindar información sobre afecciones crónicas. \n",
        "\n",
        "Además los registros médicos pueden tardar días en transferirse, especialmente para un paciente de otro proveedor o sistema médico.\n",
        "\n",
        "Es por ello que conocimiento sobre enfermedades crónicas como la **diabetes** puede informar las decisiones clínicas sobre la atención del paciente y, en última instancia, mejorar los resultados del paciente.</p>\n",
        "\n",
        "\n"
      ],
      "metadata": {
        "id": "SrhR0RXjoIVX"
      }
    },
    {
      "cell_type": "markdown",
      "source": [
        "## 1. Herramienta"
      ],
      "metadata": {
        "id": "pye7qrtjJ_2P"
      }
    },
    {
      "cell_type": "markdown",
      "source": [
        "Para realizar el procesamiento de datos en python utilzaremos la libreria **Pandas**. Esta libreria permite preprocesar, transformar y generar variables a partir de un archivo **csv, parquet**, etc."
      ],
      "metadata": {
        "id": "OlaEe329LRNv"
      }
    },
    {
      "cell_type": "markdown",
      "source": [
        "![Pandas_python.png](data:image/png;base64,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)"
      ],
      "metadata": {
        "id": "xVzwR_f0LSNK"
      }
    },
    {
      "cell_type": "markdown",
      "source": [
        "### Nociones Básicas\n",
        "+ **DataFrame**:\n",
        "    + Es la estructura de datos fundamental de Pandas, representa una tabla de datos panel con indexación integrada. \n",
        "    + Cada columna contiene los valores de una variable y cada fila un conjunto de valores de cada columna.\n",
        "    + Input para modelos de machine learning (e.g xgboost, lightgbm, linear regression, etc) \n",
        "\n",
        "+ **Tipos de Datos**:\n",
        "    + Object (string)\n",
        "    + Float\n",
        "    + Int\n",
        "    + Category\n",
        "\n",
        "+ **Operaciones principales**:\n",
        "    + Groupby\n",
        "    + Head, tail\n",
        "    + Indexing (loc, iloc)\n",
        "    + Sort\n"
      ],
      "metadata": {
        "id": "XGGXuB9LLyxi"
      }
    },
    {
      "cell_type": "markdown",
      "source": [
        "## 2. Descargando el Dataset\n",
        "\n",
        "El dataset fue extraido de la competencia [Wids2021](https://www.kaggle.com/c/widsdatathon2021/data) organizado por Kaggle y Standford.\n",
        "\n",
        "Descarga del archivo csv utilizando el comando **wget**"
      ],
      "metadata": {
        "id": "UJn90SvdKk5q"
      }
    },
    {
      "cell_type": "code",
      "execution_count": null,
      "metadata": {
        "id": "Ozh6zNriC-rH"
      },
      "outputs": [],
      "source": [
        "URL = 'https://raw.githubusercontent.com/williamberrios/TallerUPCH/master/Preprocesamiento%20de%20Datos/Data/WidsDataset.csv'\n",
        "!wget $URL"
      ]
    },
    {
      "cell_type": "markdown",
      "source": [
        "## 3. Carga de Datos\n"
      ],
      "metadata": {
        "id": "ypx6ru8vKeum"
      }
    },
    {
      "cell_type": "markdown",
      "source": [
        "+  Importamos la libreria pandas con la cual se trabajará el taller"
      ],
      "metadata": {
        "id": "JTmEGXdJOxrq"
      }
    },
    {
      "cell_type": "code",
      "source": [
        "# Importar Libreria\n",
        "import pandas as pd"
      ],
      "metadata": {
        "id": "1PvFGkgzKajV"
      },
      "execution_count": null,
      "outputs": []
    },
    {
      "cell_type": "markdown",
      "source": [
        "+ Realizamos la carga del dataset que se puede encontrar en archivo csv, xlsx, parquet entre otros\n",
        "\n",
        "\n",
        "```\n",
        "    # Lectura de CSV:\n",
        "    data = pd.read_csv(\"file_route.csv\")\n",
        "\n",
        "    # Lectura de xlsx:\n",
        "    data = pd.read_excel(\"file_route.xlsx\")\n",
        "\n",
        "    # Lectura de parquet:\n",
        "    data = pd.read_parquet(\"file_route.parquet\")\n",
        "\n",
        "```\n",
        "\n"
      ],
      "metadata": {
        "id": "y_2HFGolO2M4"
      }
    },
    {
      "cell_type": "markdown",
      "source": [
        "+ Para el taller trabajaremos con algunas variables "
      ],
      "metadata": {
        "id": "E5qEnJ6zQz_g"
      }
    },
    {
      "cell_type": "code",
      "source": [
        "# Leer archivo csv \n",
        "# ---------------completar ----------------\n",
        "\n",
        "\n",
        "# Seleccionar Variables\n",
        "target = ['diabetes_mellitus']\n",
        "variables = ['age','weight','bmi','ethnicity','gender','height','d1_glucose_max','d1_glucose_min']\n",
        "data = data[variables + target]"
      ],
      "metadata": {
        "id": "1_Wd4a7PPjan"
      },
      "execution_count": null,
      "outputs": []
    },
    {
      "cell_type": "markdown",
      "source": [
        "## 4. Análisis del Dataset\n",
        "\n",
        "+ En esta seccion revisaremos los comandos:\n",
        "    + .head()\n",
        "    + .tail()\n",
        "    + .info()\n",
        "    + .describe()\n",
        "    + .value_counts()\n",
        "    + .nunique(), .unique()"
      ],
      "metadata": {
        "id": "h2UnDkgKViSY"
      }
    },
    {
      "cell_type": "markdown",
      "source": [
        "+ Inspeccionamos aspectos generales del dataset"
      ],
      "metadata": {
        "id": "j76-PEUQZi3F"
      }
    },
    {
      "cell_type": "code",
      "source": [
        "# Visualización del dataset (head)\n"
      ],
      "metadata": {
        "id": "Zj5C2qq1Kcue"
      },
      "execution_count": null,
      "outputs": []
    },
    {
      "cell_type": "code",
      "source": [
        "# Visualización del dataset (tail)\n"
      ],
      "metadata": {
        "id": "3oADD2IZUqKp"
      },
      "execution_count": null,
      "outputs": []
    },
    {
      "cell_type": "code",
      "source": [
        "# Algunas caracteristicas de las variables del dataset\n"
      ],
      "metadata": {
        "id": "T2W8sk-jRetm"
      },
      "execution_count": null,
      "outputs": []
    },
    {
      "cell_type": "code",
      "source": [
        "# ¿Cuales son los tipos de datos de las variables?\n"
      ],
      "metadata": {
        "id": "q_sxvHZffcGf"
      },
      "execution_count": null,
      "outputs": []
    },
    {
      "cell_type": "code",
      "source": [
        "# Calculando algunas estadísticas de laas variables numéricas\n"
      ],
      "metadata": {
        "id": "p-jrnJZEWdmk"
      },
      "execution_count": null,
      "outputs": []
    },
    {
      "cell_type": "markdown",
      "source": [
        "+ Inspeccionando los valores que pertenences a las columnas del dataframe"
      ],
      "metadata": {
        "id": "lv93axC1YCFe"
      }
    },
    {
      "cell_type": "code",
      "source": [
        "# Seleccionar los valores unicos de la variable ethnicity\n",
        "\n",
        "print(\"Los valores únicos de la variable ethnicity:\\n\",unique_ethnicity)"
      ],
      "metadata": {
        "id": "uVzX92CsZjIw"
      },
      "execution_count": null,
      "outputs": []
    },
    {
      "cell_type": "code",
      "source": [
        "# Observar la distribucion de la variable ethnicity\n"
      ],
      "metadata": {
        "id": "WyWSxu-saZmf"
      },
      "execution_count": null,
      "outputs": []
    },
    {
      "cell_type": "code",
      "source": [
        "# Observar la distribucion de la variable ethnicity sin omitir los NaN\n"
      ],
      "metadata": {
        "id": "BN8Z_AqSalBC"
      },
      "execution_count": null,
      "outputs": []
    },
    {
      "cell_type": "code",
      "source": [
        "# Observar la distribucion (%) de la variable ethnicity sin omitir los NaN\n"
      ],
      "metadata": {
        "id": "E-7Hjfz1avBu"
      },
      "execution_count": null,
      "outputs": []
    },
    {
      "cell_type": "markdown",
      "source": [
        "+ Valores Nulos"
      ],
      "metadata": {
        "id": "1duZM1YCbBAN"
      }
    },
    {
      "cell_type": "code",
      "source": [
        "# Calcular la cantidad de valores nulos en cada variable\n"
      ],
      "metadata": {
        "id": "UsMFi6oMbFNJ"
      },
      "execution_count": null,
      "outputs": []
    },
    {
      "cell_type": "code",
      "source": [
        "# Calcular el porcentaje de valores nulos en cada variable\n"
      ],
      "metadata": {
        "id": "Ylu2hVdHeABn"
      },
      "execution_count": null,
      "outputs": []
    },
    {
      "cell_type": "code",
      "source": [
        "# Completar los valores nulos de la variable etnia con el string \"NULO\"\n"
      ],
      "metadata": {
        "id": "u4ZDiGuieYO7"
      },
      "execution_count": null,
      "outputs": []
    },
    {
      "cell_type": "markdown",
      "source": [
        "+ Seleccionar las variables del tipo Númerico y String"
      ],
      "metadata": {
        "id": "3zVXqdrff-iL"
      }
    },
    {
      "cell_type": "code",
      "source": [
        "# Seleccionar el dataset para que contenga solo variables numéricas\n"
      ],
      "metadata": {
        "id": "v8FG4JfUgEHp"
      },
      "execution_count": null,
      "outputs": []
    },
    {
      "cell_type": "code",
      "source": [
        "# Seleccionar el dataset para que contenga solo variables typo string\n"
      ],
      "metadata": {
        "id": "1or1K3nSgOIt"
      },
      "execution_count": null,
      "outputs": []
    },
    {
      "cell_type": "markdown",
      "source": [
        "## 5. Indexing & Filtering\n",
        "En esta sección revisamos el indexado de dataframes y filtrado de los mismos con respecto a algunas condiciones. Se revisarán los siguientes comandos:\n",
        "+ .loc\n",
        "+ .iloc"
      ],
      "metadata": {
        "id": "sB1dDinrXZTF"
      }
    },
    {
      "cell_type": "code",
      "source": [
        "# seleccionar los registros que se encuentran entre las filas 5 y 10\n"
      ],
      "metadata": {
        "id": "CuTVu7P8ZPpC"
      },
      "execution_count": null,
      "outputs": []
    },
    {
      "cell_type": "code",
      "source": [
        "# seleccionar los registros que se encuentran entre las filas 5 y 10 de la primera columna\n"
      ],
      "metadata": {
        "id": "BHKGsFvxZady"
      },
      "execution_count": null,
      "outputs": []
    },
    {
      "cell_type": "code",
      "source": [
        "# seleccionar los registros que se encuentran entre las filas 5 y 10 de la primera columna\n"
      ],
      "metadata": {
        "id": "Kp3CXhW9ZfWf"
      },
      "execution_count": null,
      "outputs": []
    },
    {
      "cell_type": "code",
      "source": [
        "# Seleccionar los registros en donde la variable ethnicity toma el valor de Caucasian\n"
      ],
      "metadata": {
        "id": "2NzP5PehZyz1"
      },
      "execution_count": null,
      "outputs": []
    },
    {
      "cell_type": "code",
      "source": [
        "# Seleccionar los registros en donde la variable ethnicity toma el valor de Caucasian y Genero Femenino\n"
      ],
      "metadata": {
        "id": "FulkL9c8b7BJ"
      },
      "execution_count": null,
      "outputs": []
    },
    {
      "cell_type": "markdown",
      "source": [
        "## 6. Aregaciones y estadísticas de algunas Variables\n",
        "En esta sección veremos como generar algunas estadísticas y agregaciones de las variables del dataset."
      ],
      "metadata": {
        "id": "KNV9ycPRTuiZ"
      }
    },
    {
      "cell_type": "code",
      "source": [
        "data.head()"
      ],
      "metadata": {
        "id": "WvXiyZYaTxc5"
      },
      "execution_count": null,
      "outputs": []
    },
    {
      "cell_type": "markdown",
      "source": [
        "+ Estadisticas mas representativas:\n",
        "    + max\n",
        "    + mean\n",
        "    + min\n",
        "    + mode "
      ],
      "metadata": {
        "id": "vozYY7nckl2E"
      }
    },
    {
      "cell_type": "code",
      "source": [
        "# Media de las edades de los pacientes\n",
        "\n",
        "print('Edad media de los pacientes es: ', round(mean_age,3))"
      ],
      "metadata": {
        "id": "EJ1oOgv7jZYb"
      },
      "execution_count": null,
      "outputs": []
    },
    {
      "cell_type": "code",
      "source": [
        "# Mediana de los pesos de los pacientes:\n",
        "\n",
        "print('Mediana de los pesos de los pacientes es: ',data['weight'].median())"
      ],
      "metadata": {
        "id": "sKayxzjMjqz6"
      },
      "execution_count": null,
      "outputs": []
    },
    {
      "cell_type": "code",
      "source": [
        "# Minima y máxima altura de los pacientes:\n",
        "\n",
        "print(f'La altura máxima es {max_altura} y la altura mínima es {min_altura}')"
      ],
      "metadata": {
        "id": "7Xdn26mlkDsn"
      },
      "execution_count": null,
      "outputs": []
    },
    {
      "cell_type": "code",
      "source": [
        "# Moda de la variable tipo de etnia\n",
        "\n",
        "print(f\"Moda de la variable etnia de los pacientes es {mode_etnia}\")"
      ],
      "metadata": {
        "id": "d9YCBy_AkahW"
      },
      "execution_count": null,
      "outputs": []
    },
    {
      "cell_type": "markdown",
      "source": [
        "+ **Group by**\n",
        "    + Este método nos permite dividir eficiente el dataset en grupos basados en cierta condicion \n",
        "\n",
        "```\n",
        "        # Python\n",
        "        dataframe.groupby([variables_grupo])[variable_a_calcular_estadistica].mean() \n",
        "```\n",
        "\n"
      ],
      "metadata": {
        "id": "ppR3rkoakrHm"
      }
    },
    {
      "cell_type": "code",
      "source": [
        "# Calcular la edad promedio de los pacientes por cada tipo de etnia\n"
      ],
      "metadata": {
        "id": "gC7bAE8Llq4F"
      },
      "execution_count": null,
      "outputs": []
    },
    {
      "cell_type": "code",
      "source": [
        "# Que tipo de etnia poseen una mayor prevalencia a presentar diabetes melitus cuando son ingresados a uci\n"
      ],
      "metadata": {
        "id": "fzleuvool0dj"
      },
      "execution_count": null,
      "outputs": []
    },
    {
      "cell_type": "code",
      "source": [
        "# Cual es la mediana del peso de los pacientes por genero\n"
      ],
      "metadata": {
        "id": "SXxCOithWt7W"
      },
      "execution_count": null,
      "outputs": []
    },
    {
      "cell_type": "markdown",
      "source": [
        "+ Calculo de Agregaciones mediante el método \".agg()\"\n",
        "\n",
        "\n",
        "\n",
        "```\n",
        "    df.groupby([variables_grupo]).agg({'variable':[agregaciones]})\n",
        "```\n",
        "\n"
      ],
      "metadata": {
        "id": "GGfDwek9l8Eo"
      }
    },
    {
      "cell_type": "code",
      "source": [
        "# Calcular la mediana, media y máximo valor del peso por cada género\n"
      ],
      "metadata": {
        "id": "DO2p7T7YmbGD"
      },
      "execution_count": null,
      "outputs": []
    },
    {
      "cell_type": "code",
      "source": [
        "# Calcular la media y la mediana de edades de los pacientes por tipo de etnia y genero\n"
      ],
      "metadata": {
        "id": "Xj3AkwpPmk8r"
      },
      "execution_count": null,
      "outputs": []
    },
    {
      "cell_type": "markdown",
      "source": [
        "# 7.Ejercicios"
      ],
      "metadata": {
        "id": "G9BJOhkgaWl4"
      }
    },
    {
      "cell_type": "markdown",
      "source": [
        "###### 7.1 ¿Determinar que genero esta mas predispuesto a tener diabetes mellitus en base al dataset observado?\n"
      ],
      "metadata": {
        "id": "nyv1SeBdm3Hr"
      }
    },
    {
      "cell_type": "code",
      "source": [
        "# Pregunta 7.1\n"
      ],
      "metadata": {
        "id": "aCmrZZc2Yx1d"
      },
      "execution_count": null,
      "outputs": []
    },
    {
      "cell_type": "markdown",
      "source": [
        "###### 7.2 ¿Cual es la edad promedio de los pacientes que pertenecen a la etnia Hispanic y tienen una altura mayor a 175 cm?"
      ],
      "metadata": {
        "id": "aKbYkU7Nm8ws"
      }
    },
    {
      "cell_type": "code",
      "source": [
        "# Pregunta 7.2\n"
      ],
      "metadata": {
        "id": "feB72tY0nXlB"
      },
      "execution_count": null,
      "outputs": []
    },
    {
      "cell_type": "markdown",
      "source": [
        "###### 7.3 ¿Cual es la cantidad de valores nulos en la variable 'd1_glucose_max' para cada tipo de etnia?\n"
      ],
      "metadata": {
        "id": "qQzQPf4DnX4k"
      }
    },
    {
      "cell_type": "code",
      "source": [
        "# Pregunta 7.3\n"
      ],
      "metadata": {
        "id": "7p-VFoBSdhgd"
      },
      "execution_count": null,
      "outputs": []
    },
    {
      "cell_type": "markdown",
      "source": [
        "###### 7.4 Calcular la mediana y la desviacion estandar de la variable peso por cada etnia en pacientes mujeres que presentan dibetes mellitus\n"
      ],
      "metadata": {
        "id": "9VDLqmZLndx-"
      }
    },
    {
      "cell_type": "code",
      "source": [
        "# Pregunta 7.4\n"
      ],
      "metadata": {
        "id": "4az3eV6YePJg"
      },
      "execution_count": null,
      "outputs": []
    }
  ]
}